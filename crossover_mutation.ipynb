{
 "cells": [
  {
   "cell_type": "code",
   "execution_count": 1,
   "metadata": {},
   "outputs": [],
   "source": [
    "import numpy as np"
   ]
  },
  {
   "cell_type": "code",
   "execution_count": 3,
   "metadata": {},
   "outputs": [
    {
     "name": "stdout",
     "output_type": "stream",
     "text": [
      "('10100', '11101')\n"
     ]
    }
   ],
   "source": [
    "def single_point_cv(a,b,x):\n",
    "    return a[:x]+b[x:], b[:x]+a[x:]\n",
    "\n",
    "a = '10101'\n",
    "b = '11100'\n",
    "print(single_point_cv(a,b,2))\n"
   ]
  },
  {
   "cell_type": "code",
   "execution_count": 4,
   "metadata": {},
   "outputs": [
    {
     "name": "stdout",
     "output_type": "stream",
     "text": [
      "('4874926923', '9865523587')\n"
     ]
    }
   ],
   "source": [
    "def multi_point_cv(a,b,x):\n",
    "    for i in x:\n",
    "        a, b = single_point_cv(a,b,i)\n",
    "    return a, b\n",
    "\n",
    "a = \"4865926923\"\n",
    "b = \"9874523587\"\n",
    "x = [2,4]\n",
    "print(multi_point_cv(a,b,x))"
   ]
  },
  {
   "cell_type": "code",
   "execution_count": 28,
   "metadata": {},
   "outputs": [
    {
     "name": "stdout",
     "output_type": "stream",
     "text": [
      "('48745235871', '9865926923')\n"
     ]
    }
   ],
   "source": [
    "def uniform_cv(a,b,p):\n",
    "    for i in range(len(p)):\n",
    "        if p[i] < 0.5:\n",
    "            temp = a[i]\n",
    "            a[i] = b[i]\n",
    "            b[i] = temp\n",
    "    a1 = \"\"\n",
    "    for x in a:\n",
    "        a1+=str(x)\n",
    "    b1 = \"\"\n",
    "    for x in b:\n",
    "        b1 += str(x)\n",
    "    return a1, b1\n",
    "\n",
    "A = np.array([4,8,6,5,9, 2,6,9,2,3])\n",
    "B = np.array([9,8,7,4,5,2, 3,5,8,71])\n",
    "P = np.random.rand(10)\n",
    "print(uniform_cv(A,B,P))"
   ]
  },
  {
   "cell_type": "code",
   "execution_count": 71,
   "metadata": {},
   "outputs": [
    {
     "name": "stdout",
     "output_type": "stream",
     "text": [
      "{0, 1}\n",
      "01101\n"
     ]
    }
   ],
   "source": [
    "def bitflip(a,x):\n",
    "    a = [str(w) for w in a]\n",
    "    for i in x:\n",
    "        if a[i] == '1':\n",
    "            a[i] = '0'\n",
    "        else:\n",
    "            a[i] = '1'\n",
    "    return \"\".join(a)\n",
    "\n",
    "a = '10101'\n",
    "x = []\n",
    "for i in range(len(a)):\n",
    "    x.append(np.random.randint(i+1))\n",
    "x = set(x)\n",
    "print(x)\n",
    "print(bitflip(a,x))"
   ]
  },
  {
   "cell_type": "code",
   "execution_count": 73,
   "metadata": {},
   "outputs": [
    {
     "name": "stdout",
     "output_type": "stream",
     "text": [
      "{0, 1, 3, 4}\n",
      "[4, 5, 6, 7, 1, 2, 6, 9, 2, 3]\n"
     ]
    }
   ],
   "source": [
    "def randomresetting(a,x):\n",
    "    for i in x:\n",
    "        a[i] = np.random.randint(10)\n",
    "    return a.tolist()\n",
    "A = np.array([4,8,6,5,9,2,6,9,2,3])\n",
    "x = []\n",
    "for i in range(len(A)):\n",
    "    x.append(np.random.randint(i+1))\n",
    "x = set(x)\n",
    "print(x)\n",
    "print(randomresetting(A,x))"
   ]
  },
  {
   "cell_type": "code",
   "execution_count": 74,
   "metadata": {},
   "outputs": [
    {
     "name": "stdout",
     "output_type": "stream",
     "text": [
      "8 6\n",
      "[4, 8, 6, 5, 9, 2, 2, 9, 6, 3]\n"
     ]
    }
   ],
   "source": [
    "def swap_mutation(a,i1,i2):\n",
    "    temp = a[i1]\n",
    "    a[i1] = a[i2]\n",
    "    a[i2] = temp\n",
    "    return a.tolist()\n",
    "A = np.array([4,8,6,5,9,2,6,9,2,3])\n",
    "i1 = np.random.randint(len(A))\n",
    "i2 = np.random.randint(len(A))\n",
    "i2 = i2 if i1!=i2 else i2+1\n",
    "print(i1,i2)\n",
    "print(swap_mutation(A,i1,i2))"
   ]
  },
  {
   "cell_type": "code",
   "execution_count": 75,
   "metadata": {},
   "outputs": [
    {
     "name": "stdout",
     "output_type": "stream",
     "text": [
      "123654789\n"
     ]
    }
   ],
   "source": [
    "def inversion(a,x,y):\n",
    "    a1 = a[:x]\n",
    "    a2 = a[x:y]\n",
    "    a3 = a[y:]\n",
    "    return a1+ a2[::-1] + a3\n",
    "a = \"123456789\"\n",
    "print(inversion(a,3,6))"
   ]
  },
  {
   "cell_type": "code",
   "execution_count": 78,
   "metadata": {},
   "outputs": [
    {
     "name": "stdout",
     "output_type": "stream",
     "text": [
      "{0, 1, 3, 5, 7}\n",
      "243658719\n"
     ]
    }
   ],
   "source": [
    "def scramble(a,x):\n",
    "    a = [w for w in a]\n",
    "    ind = list(x)\n",
    "    val = []\n",
    "    for i in ind:\n",
    "        val.append(a[i])\n",
    "    np.random.shuffle(val)\n",
    "    curr = 0\n",
    "    for i in range(len(a)):\n",
    "        if i in ind:\n",
    "            a[i] = val[curr]\n",
    "            curr+=1\n",
    "    return \"\".join(a)\n",
    "    \n",
    "a = \"123456789\"\n",
    "x = []\n",
    "for i in range(len(a)):\n",
    "    x.append(np.random.randint(i+1))\n",
    "x = set(x)\n",
    "print(x)\n",
    "print(scramble(a,x))"
   ]
  }
 ],
 "metadata": {
  "kernelspec": {
   "display_name": "venv",
   "language": "python",
   "name": "python3"
  },
  "language_info": {
   "codemirror_mode": {
    "name": "ipython",
    "version": 3
   },
   "file_extension": ".py",
   "mimetype": "text/x-python",
   "name": "python",
   "nbconvert_exporter": "python",
   "pygments_lexer": "ipython3",
   "version": "3.10.12"
  },
  "orig_nbformat": 4
 },
 "nbformat": 4,
 "nbformat_minor": 2
}
