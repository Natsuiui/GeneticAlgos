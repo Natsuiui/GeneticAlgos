{
 "cells": [
  {
   "cell_type": "markdown",
   "source": [
    "## Genetic algorithm to find optimal solution\n",
    "### To minimimize -> y = x^5^ - 6x^4^ + 3x^3^ - 12x^2^ +6x -12\n",
    "###### -Derivative = y' = 5x^4^ -24x^3^ + 9x^2^ -24x +6 \n",
    "### Known optimal point till 3 digits = y =-573.28689 appx"
   ],
   "metadata": {
    "collapsed": false
   },
   "id": "14ae8a1669b3df78"
  },
  {
   "cell_type": "code",
   "execution_count": 268,
   "outputs": [],
   "source": [
    "def eqn(x):\n",
    "    return (x**5) - ((6)*(x**4)) + ((3)*(x**3)) - ((12)*(x**2)) + (6*x) - 12.0\n",
    "def derivative(x):\n",
    "    return ((5)*(x**4)) - ((24)*(x**3)) + ((9)*(x**2)) - ((24)*(x)) + 6.0"
   ],
   "metadata": {
    "collapsed": false,
    "ExecuteTime": {
     "end_time": "2023-09-28T18:11:47.779009Z",
     "start_time": "2023-09-28T18:11:47.769617Z"
    }
   },
   "id": "eeb1364a4549d4be"
  },
  {
   "cell_type": "markdown",
   "source": [
    "##### To keep the code short and simple - assume that x is non-negative\n",
    "##### Below code generates a population(list) of given size that has random float point numbers within a given range"
   ],
   "metadata": {
    "collapsed": false
   },
   "id": "42215f45f96f9b83"
  },
  {
   "cell_type": "code",
   "execution_count": 269,
   "outputs": [],
   "source": [
    "bestSolution = 9999"
   ],
   "metadata": {
    "collapsed": false,
    "ExecuteTime": {
     "end_time": "2023-09-28T18:11:47.787875Z",
     "start_time": "2023-09-28T18:11:47.772920Z"
    }
   },
   "id": "4811415fd71f628e"
  },
  {
   "cell_type": "code",
   "execution_count": 270,
   "outputs": [],
   "source": [
    "import random\n",
    "def genInit(size, maxrange):\n",
    "    pop = []\n",
    "    for i in range(size):\n",
    "        pop.append(random.uniform(0,maxrange))\n",
    "    return pop"
   ],
   "metadata": {
    "collapsed": false,
    "ExecuteTime": {
     "end_time": "2023-09-28T18:11:47.788104Z",
     "start_time": "2023-09-28T18:11:47.776636Z"
    }
   },
   "id": "7e842788e2dce81a"
  },
  {
   "cell_type": "markdown",
   "source": [
    "##### Below code evaluates the values of the functions and sorts them in ascending order (minimum value first) "
   ],
   "metadata": {
    "collapsed": false
   },
   "id": "9e233de947f0f420"
  },
  {
   "cell_type": "code",
   "execution_count": 271,
   "outputs": [],
   "source": [
    "def evaluate(pop):\n",
    "    values = {}\n",
    "    for i in pop:\n",
    "        values[i] = eqn(i)\n",
    "    sortedValues = sorted(values.items(), key=lambda x:x[1])\n",
    "    return sortedValues"
   ],
   "metadata": {
    "collapsed": false,
    "ExecuteTime": {
     "end_time": "2023-09-28T18:11:47.788315Z",
     "start_time": "2023-09-28T18:11:47.780509Z"
    }
   },
   "id": "a6e608d46796be47"
  },
  {
   "cell_type": "markdown",
   "source": [
    "##### Below code generates a new population based on random probability multipliers"
   ],
   "metadata": {
    "collapsed": false
   },
   "id": "33b2c7958ae5d32d"
  },
  {
   "cell_type": "code",
   "execution_count": 272,
   "outputs": [],
   "source": [
    "def newpop(pop):\n",
    "    for i in range(len(pop)):\n",
    "        pop[i] *= random.uniform(0.5,1)\n",
    "    return pop"
   ],
   "metadata": {
    "collapsed": false,
    "ExecuteTime": {
     "end_time": "2023-09-28T18:11:47.788354Z",
     "start_time": "2023-09-28T18:11:47.782951Z"
    }
   },
   "id": "4862d6e6b8fb39a8"
  },
  {
   "cell_type": "markdown",
   "source": [
    "##### Generating initial population"
   ],
   "metadata": {
    "collapsed": false
   },
   "id": "1d20c11fe2e411e5"
  },
  {
   "cell_type": "code",
   "execution_count": 273,
   "outputs": [],
   "source": [
    "popsize = int(input(\"Enter the size of the population: \"))\n",
    "currentPop = genInit(popsize, 100)"
   ],
   "metadata": {
    "collapsed": false,
    "ExecuteTime": {
     "end_time": "2023-09-28T18:11:52.439483Z",
     "start_time": "2023-09-28T18:11:47.785915Z"
    }
   },
   "id": "469207b7253a7c7d"
  },
  {
   "cell_type": "code",
   "execution_count": 274,
   "outputs": [
    {
     "name": "stdout",
     "output_type": "stream",
     "text": [
      "Initial population best point =  4.623080098342836\n",
      "Derivative =  -0.0040359622321375355\n"
     ]
    }
   ],
   "source": [
    "bestSolution = evaluate(currentPop)[0][0] if derivative(evaluate(currentPop)[0][0]) <= derivative(bestSolution) else bestSolution\n",
    "print(\"Initial population best point = \", bestSolution)\n",
    "print(\"Derivative = \", derivative(bestSolution))"
   ],
   "metadata": {
    "collapsed": false,
    "ExecuteTime": {
     "end_time": "2023-09-28T18:11:52.503671Z",
     "start_time": "2023-09-28T18:11:52.498847Z"
    }
   },
   "id": "82aabfed3965f93e"
  },
  {
   "cell_type": "markdown",
   "source": [
    "#### Find best fit point from a bunch of randomly generating points (not very efficient, but works)"
   ],
   "metadata": {
    "collapsed": false
   },
   "id": "1fa90198e61a0ada"
  },
  {
   "cell_type": "code",
   "execution_count": 275,
   "outputs": [
    {
     "name": "stdout",
     "output_type": "stream",
     "text": [
      "Overall best =  4.623080098342836\n",
      "Best Derivative =  -0.0040359622321375355 \n",
      "\n",
      "Current population best =  4.625972166670507\n",
      "Current population derivative =  1.4346433499083275 \n",
      "\n",
      "Overall best =  4.623080098342836\n",
      "Best Derivative =  -0.0040359622321375355 \n",
      "\n",
      "Current population best =  4.622359683456478\n",
      "Current population derivative =  -0.3615850908272904 \n",
      "\n",
      "Overall best =  4.623080098342836\n",
      "Best Derivative =  -0.0040359622321375355 \n",
      "\n",
      "Current population best =  4.623104547920693\n",
      "Current population derivative =  0.008104386432108868 \n",
      "\n",
      "Overall best =  4.623080098342836\n",
      "Best Derivative =  -0.0040359622321375355 \n",
      "\n",
      "Current population best =  4.6234532056874995\n",
      "Current population derivative =  0.1812704114599626 \n",
      "\n",
      "Overall best =  4.623080098342836\n",
      "Best Derivative =  -0.0040359622321375355 \n",
      "\n",
      "Current population best =  4.623018369385806\n",
      "Current population derivative =  -0.034685562524927604 \n",
      "\n",
      "Overall best =  4.623080098342836\n",
      "Best Derivative =  -0.0040359622321375355 \n",
      "\n",
      "Current population best =  4.623039666773925\n",
      "Current population derivative =  -0.024111277815606513 \n",
      "\n",
      "Overall best =  4.623080098342836\n",
      "Best Derivative =  -0.0040359622321375355 \n",
      "\n",
      "Current population best =  4.623056915190835\n",
      "Current population derivative =  -0.015547121344653192 \n",
      "\n",
      "Overall best =  4.623080098342836\n",
      "Best Derivative =  -0.0040359622321375355 \n",
      "Current population best =  4.623040048883444\n",
      "Current population derivative =  -0.023921555451138943 \n",
      "\n",
      "Overall best =  4.623080098342836\n",
      "Best Derivative =  -0.0040359622321375355 \n",
      "\n",
      "Current population best =  4.623045375329271\n",
      "Current population derivative =  -0.021276895917807792 \n",
      "\n",
      "Overall best =  4.623080098342836\n",
      "Best Derivative =  -0.0040359622321375355 \n",
      "\n",
      "Current population best =  4.623219892136351\n",
      "Current population derivative =  0.06538325265202616 \n",
      "\n",
      "Best solution after  10 epochs is  4.623080098342836\n"
     ]
    }
   ],
   "source": [
    "epochs = int(input(\"Enter number of epochs: \"))\n",
    "for i in range(epochs):\n",
    "    print(\"Overall best = \", bestSolution)\n",
    "    print(\"Best Derivative = \", derivative(bestSolution), \"\\n\")\n",
    "    np = newpop(currentPop)\n",
    "    currentPop = np\n",
    "    currBest = evaluate(currentPop)[0][0]\n",
    "    print(\"Current population best = \", currBest)\n",
    "    print(\"Current population derivative = \", derivative(currBest), \"\\n\")\n",
    "    bestSolution = currBest if abs(derivative(currBest))< abs(derivative(bestSolution)) else bestSolution\n",
    "print(\"Best solution after \", epochs, \"epochs is \", bestSolution)"
   ],
   "metadata": {
    "collapsed": false,
    "ExecuteTime": {
     "end_time": "2023-09-28T18:11:54.347878Z",
     "start_time": "2023-09-28T18:11:52.501650Z"
    }
   },
   "id": "3753b428f2027014"
  },
  {
   "cell_type": "code",
   "execution_count": 277,
   "outputs": [
    {
     "name": "stdout",
     "output_type": "stream",
     "text": [
      "-573.2868883509183\n"
     ]
    }
   ],
   "source": [
    "print(eqn(bestSolution))"
   ],
   "metadata": {
    "collapsed": false,
    "ExecuteTime": {
     "end_time": "2023-09-28T18:11:57.548672Z",
     "start_time": "2023-09-28T18:11:57.542139Z"
    }
   },
   "id": "d86f5e9cff27a857"
  }
 ],
 "metadata": {
  "kernelspec": {
   "display_name": "Python 3",
   "language": "python",
   "name": "python3"
  },
  "language_info": {
   "codemirror_mode": {
    "name": "ipython",
    "version": 2
   },
   "file_extension": ".py",
   "mimetype": "text/x-python",
   "name": "python",
   "nbconvert_exporter": "python",
   "pygments_lexer": "ipython2",
   "version": "2.7.6"
  }
 },
 "nbformat": 4,
 "nbformat_minor": 5
}
